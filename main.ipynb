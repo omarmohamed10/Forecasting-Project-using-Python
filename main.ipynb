{
 "cells": [
  {
   "cell_type": "code",
   "execution_count": 1,
   "metadata": {},
   "outputs": [],
   "source": [
    "import pandas as pd\n",
    "import numpy as np\n",
    "from statistics import mean\n",
    "import matplotlib.pyplot as plt\n",
    "from datetime import datetime\n",
    "from statsmodels.tsa.seasonal import seasonal_decompose\n",
    "from pylab import rcParams"
   ]
  },
  {
   "cell_type": "markdown",
   "metadata": {},
   "source": [
    "## Step #1"
   ]
  },
  {
   "cell_type": "code",
   "execution_count": 2,
   "metadata": {},
   "outputs": [],
   "source": [
    "data = pd.read_excel(\"dataset.xls\")\n",
    "data_furn = data[data['Category'] == 'Furniture'][['Order Date', 'Sales']]\n",
    "data_supp = data[data['Category'] == 'Office Supplies'][['Order Date', 'Sales']]\n",
    "\n",
    "data_furn['Year'] = data['Order Date'].dt.year\n",
    "data_supp['Year'] = data['Order Date'].dt.year\n",
    "\n",
    "data_furn['Month'] = data_furn['Order Date'].dt.month\n",
    "data_supp['Month'] = data_supp['Order Date'].dt.month\n",
    "\n",
    "data_furn['Date'] = [datetime(i, j, 1) for (i, j) in zip(data_furn['Year'], data_furn['Month'])]\n",
    "data_supp['Date'] = [datetime(i, j, 1) for (i, j) in zip(data_supp['Year'], data_supp['Month'])]\n",
    "\n",
    "\n"
   ]
  },
  {
   "cell_type": "code",
   "execution_count": 3,
   "metadata": {},
   "outputs": [
    {
     "data": {
      "text/html": [
       "<div>\n",
       "<style scoped>\n",
       "    .dataframe tbody tr th:only-of-type {\n",
       "        vertical-align: middle;\n",
       "    }\n",
       "\n",
       "    .dataframe tbody tr th {\n",
       "        vertical-align: top;\n",
       "    }\n",
       "\n",
       "    .dataframe thead th {\n",
       "        text-align: right;\n",
       "    }\n",
       "</style>\n",
       "<table border=\"1\" class=\"dataframe\">\n",
       "  <thead>\n",
       "    <tr style=\"text-align: right;\">\n",
       "      <th></th>\n",
       "      <th>Order Date</th>\n",
       "      <th>Sales</th>\n",
       "      <th>Year</th>\n",
       "      <th>Month</th>\n",
       "      <th>Date</th>\n",
       "    </tr>\n",
       "  </thead>\n",
       "  <tbody>\n",
       "    <tr>\n",
       "      <th>7</th>\n",
       "      <td>2014-01-06</td>\n",
       "      <td>2573.820</td>\n",
       "      <td>2014</td>\n",
       "      <td>1</td>\n",
       "      <td>2014-01-01</td>\n",
       "    </tr>\n",
       "    <tr>\n",
       "      <th>14</th>\n",
       "      <td>2014-01-07</td>\n",
       "      <td>76.728</td>\n",
       "      <td>2014</td>\n",
       "      <td>1</td>\n",
       "      <td>2014-01-01</td>\n",
       "    </tr>\n",
       "    <tr>\n",
       "      <th>19</th>\n",
       "      <td>2014-01-10</td>\n",
       "      <td>51.940</td>\n",
       "      <td>2014</td>\n",
       "      <td>1</td>\n",
       "      <td>2014-01-01</td>\n",
       "    </tr>\n",
       "    <tr>\n",
       "      <th>20</th>\n",
       "      <td>2014-01-11</td>\n",
       "      <td>9.940</td>\n",
       "      <td>2014</td>\n",
       "      <td>1</td>\n",
       "      <td>2014-01-01</td>\n",
       "    </tr>\n",
       "    <tr>\n",
       "      <th>26</th>\n",
       "      <td>2014-01-13</td>\n",
       "      <td>545.940</td>\n",
       "      <td>2014</td>\n",
       "      <td>1</td>\n",
       "      <td>2014-01-01</td>\n",
       "    </tr>\n",
       "  </tbody>\n",
       "</table>\n",
       "</div>"
      ],
      "text/plain": [
       "   Order Date     Sales  Year  Month       Date\n",
       "7  2014-01-06  2573.820  2014      1 2014-01-01\n",
       "14 2014-01-07    76.728  2014      1 2014-01-01\n",
       "19 2014-01-10    51.940  2014      1 2014-01-01\n",
       "20 2014-01-11     9.940  2014      1 2014-01-01\n",
       "26 2014-01-13   545.940  2014      1 2014-01-01"
      ]
     },
     "execution_count": 3,
     "metadata": {},
     "output_type": "execute_result"
    }
   ],
   "source": [
    "data_furn.head()"
   ]
  },
  {
   "cell_type": "code",
   "execution_count": 4,
   "metadata": {},
   "outputs": [
    {
     "data": {
      "text/html": [
       "<div>\n",
       "<style scoped>\n",
       "    .dataframe tbody tr th:only-of-type {\n",
       "        vertical-align: middle;\n",
       "    }\n",
       "\n",
       "    .dataframe tbody tr th {\n",
       "        vertical-align: top;\n",
       "    }\n",
       "\n",
       "    .dataframe thead th {\n",
       "        text-align: right;\n",
       "    }\n",
       "</style>\n",
       "<table border=\"1\" class=\"dataframe\">\n",
       "  <thead>\n",
       "    <tr style=\"text-align: right;\">\n",
       "      <th></th>\n",
       "      <th>Order Date</th>\n",
       "      <th>Sales</th>\n",
       "      <th>Year</th>\n",
       "      <th>Month</th>\n",
       "      <th>Date</th>\n",
       "    </tr>\n",
       "  </thead>\n",
       "  <tbody>\n",
       "    <tr>\n",
       "      <th>0</th>\n",
       "      <td>2014-01-03</td>\n",
       "      <td>16.448</td>\n",
       "      <td>2014</td>\n",
       "      <td>1</td>\n",
       "      <td>2014-01-01</td>\n",
       "    </tr>\n",
       "    <tr>\n",
       "      <th>1</th>\n",
       "      <td>2014-01-04</td>\n",
       "      <td>11.784</td>\n",
       "      <td>2014</td>\n",
       "      <td>1</td>\n",
       "      <td>2014-01-01</td>\n",
       "    </tr>\n",
       "    <tr>\n",
       "      <th>2</th>\n",
       "      <td>2014-01-04</td>\n",
       "      <td>272.736</td>\n",
       "      <td>2014</td>\n",
       "      <td>1</td>\n",
       "      <td>2014-01-01</td>\n",
       "    </tr>\n",
       "    <tr>\n",
       "      <th>3</th>\n",
       "      <td>2014-01-04</td>\n",
       "      <td>3.540</td>\n",
       "      <td>2014</td>\n",
       "      <td>1</td>\n",
       "      <td>2014-01-01</td>\n",
       "    </tr>\n",
       "    <tr>\n",
       "      <th>4</th>\n",
       "      <td>2014-01-05</td>\n",
       "      <td>19.536</td>\n",
       "      <td>2014</td>\n",
       "      <td>1</td>\n",
       "      <td>2014-01-01</td>\n",
       "    </tr>\n",
       "  </tbody>\n",
       "</table>\n",
       "</div>"
      ],
      "text/plain": [
       "  Order Date    Sales  Year  Month       Date\n",
       "0 2014-01-03   16.448  2014      1 2014-01-01\n",
       "1 2014-01-04   11.784  2014      1 2014-01-01\n",
       "2 2014-01-04  272.736  2014      1 2014-01-01\n",
       "3 2014-01-04    3.540  2014      1 2014-01-01\n",
       "4 2014-01-05   19.536  2014      1 2014-01-01"
      ]
     },
     "execution_count": 4,
     "metadata": {},
     "output_type": "execute_result"
    }
   ],
   "source": [
    "data_supp.head()"
   ]
  },
  {
   "cell_type": "code",
   "execution_count": 5,
   "metadata": {},
   "outputs": [],
   "source": [
    "data_furn = data_furn[['Date' , 'Sales']].groupby(data_furn['Date']).sum()\n",
    "data_supp = data_supp[['Date' , 'Sales']].groupby(data_supp['Date']).sum()"
   ]
  },
  {
   "cell_type": "code",
   "execution_count": 6,
   "metadata": {},
   "outputs": [
    {
     "data": {
      "text/html": [
       "<div>\n",
       "<style scoped>\n",
       "    .dataframe tbody tr th:only-of-type {\n",
       "        vertical-align: middle;\n",
       "    }\n",
       "\n",
       "    .dataframe tbody tr th {\n",
       "        vertical-align: top;\n",
       "    }\n",
       "\n",
       "    .dataframe thead th {\n",
       "        text-align: right;\n",
       "    }\n",
       "</style>\n",
       "<table border=\"1\" class=\"dataframe\">\n",
       "  <thead>\n",
       "    <tr style=\"text-align: right;\">\n",
       "      <th></th>\n",
       "      <th>Sales</th>\n",
       "    </tr>\n",
       "    <tr>\n",
       "      <th>Date</th>\n",
       "      <th></th>\n",
       "    </tr>\n",
       "  </thead>\n",
       "  <tbody>\n",
       "    <tr>\n",
       "      <th>2014-01-01</th>\n",
       "      <td>6242.525</td>\n",
       "    </tr>\n",
       "    <tr>\n",
       "      <th>2014-02-01</th>\n",
       "      <td>1839.658</td>\n",
       "    </tr>\n",
       "    <tr>\n",
       "      <th>2014-03-01</th>\n",
       "      <td>14573.956</td>\n",
       "    </tr>\n",
       "    <tr>\n",
       "      <th>2014-04-01</th>\n",
       "      <td>7944.837</td>\n",
       "    </tr>\n",
       "    <tr>\n",
       "      <th>2014-05-01</th>\n",
       "      <td>6912.787</td>\n",
       "    </tr>\n",
       "  </tbody>\n",
       "</table>\n",
       "</div>"
      ],
      "text/plain": [
       "                Sales\n",
       "Date                 \n",
       "2014-01-01   6242.525\n",
       "2014-02-01   1839.658\n",
       "2014-03-01  14573.956\n",
       "2014-04-01   7944.837\n",
       "2014-05-01   6912.787"
      ]
     },
     "execution_count": 6,
     "metadata": {},
     "output_type": "execute_result"
    }
   ],
   "source": [
    "data_furn.head()"
   ]
  },
  {
   "cell_type": "code",
   "execution_count": 7,
   "metadata": {},
   "outputs": [
    {
     "data": {
      "text/html": [
       "<div>\n",
       "<style scoped>\n",
       "    .dataframe tbody tr th:only-of-type {\n",
       "        vertical-align: middle;\n",
       "    }\n",
       "\n",
       "    .dataframe tbody tr th {\n",
       "        vertical-align: top;\n",
       "    }\n",
       "\n",
       "    .dataframe thead th {\n",
       "        text-align: right;\n",
       "    }\n",
       "</style>\n",
       "<table border=\"1\" class=\"dataframe\">\n",
       "  <thead>\n",
       "    <tr style=\"text-align: right;\">\n",
       "      <th></th>\n",
       "      <th>Sales</th>\n",
       "    </tr>\n",
       "    <tr>\n",
       "      <th>Date</th>\n",
       "      <th></th>\n",
       "    </tr>\n",
       "  </thead>\n",
       "  <tbody>\n",
       "    <tr>\n",
       "      <th>2014-01-01</th>\n",
       "      <td>4851.080</td>\n",
       "    </tr>\n",
       "    <tr>\n",
       "      <th>2014-02-01</th>\n",
       "      <td>1071.724</td>\n",
       "    </tr>\n",
       "    <tr>\n",
       "      <th>2014-03-01</th>\n",
       "      <td>8605.879</td>\n",
       "    </tr>\n",
       "    <tr>\n",
       "      <th>2014-04-01</th>\n",
       "      <td>11155.074</td>\n",
       "    </tr>\n",
       "    <tr>\n",
       "      <th>2014-05-01</th>\n",
       "      <td>7135.624</td>\n",
       "    </tr>\n",
       "  </tbody>\n",
       "</table>\n",
       "</div>"
      ],
      "text/plain": [
       "                Sales\n",
       "Date                 \n",
       "2014-01-01   4851.080\n",
       "2014-02-01   1071.724\n",
       "2014-03-01   8605.879\n",
       "2014-04-01  11155.074\n",
       "2014-05-01   7135.624"
      ]
     },
     "execution_count": 7,
     "metadata": {},
     "output_type": "execute_result"
    }
   ],
   "source": [
    "data_supp.head()"
   ]
  },
  {
   "cell_type": "code",
   "execution_count": 8,
   "metadata": {},
   "outputs": [
    {
     "data": {
      "image/png": "[encoded data removed]",
      "text/plain": [
       "<Figure size 432x288 with 1 Axes>"
      ]
     },
     "metadata": {
      "needs_background": "light"
     },
     "output_type": "display_data"
    }
   ],
   "source": [
    "plt.plot(data_furn)\n",
    "plt.title(\"Furniture Sales\")\n",
    "plt.xlabel(\"Time\")\n",
    "plt.ylabel(\"Sales\")\n",
    "plt.show()"
   ]
  },
  {
   "cell_type": "code",
   "execution_count": 9,
   "metadata": {},
   "outputs": [
    {
     "data": {
      "image/png": "[encoded data removed]",
      "text/plain": [
       "<Figure size 432x288 with 1 Axes>"
      ]
     },
     "metadata": {
      "needs_background": "light"
     },
     "output_type": "display_data"
    }
   ],
   "source": [
    "plt.plot(data_supp)\n",
    "plt.title(\"Office Supplies Sales\")\n",
    "plt.xlabel(\"Time\")\n",
    "plt.ylabel(\"Sales\")\n",
    "plt.show()"
   ]
  },
  {
   "cell_type": "markdown",
   "metadata": {},
   "source": [
    "## Step #2 "
   ]
  },
  {
   "cell_type": "code",
   "execution_count": 10,
   "metadata": {},
   "outputs": [],
   "source": [
    "furn_2018_sales=np.zeros(12)\n",
    "supp_2018_sales=np.zeros(12)"
   ]
  },
  {
   "cell_type": "code",
   "execution_count": 11,
   "metadata": {},
   "outputs": [],
   "source": [
    "data_furn['Moving Average'] = data_furn['Sales'].rolling(window=5).mean()"
   ]
  },
  {
   "cell_type": "code",
   "execution_count": 12,
   "metadata": {},
   "outputs": [
    {
     "data": {
      "text/html": [
       "<div>\n",
       "<style scoped>\n",
       "    .dataframe tbody tr th:only-of-type {\n",
       "        vertical-align: middle;\n",
       "    }\n",
       "\n",
       "    .dataframe tbody tr th {\n",
       "        vertical-align: top;\n",
       "    }\n",
       "\n",
       "    .dataframe thead th {\n",
       "        text-align: right;\n",
       "    }\n",
       "</style>\n",
       "<table border=\"1\" class=\"dataframe\">\n",
       "  <thead>\n",
       "    <tr style=\"text-align: right;\">\n",
       "      <th></th>\n",
       "      <th>Sales</th>\n",
       "      <th>Moving Average</th>\n",
       "    </tr>\n",
       "    <tr>\n",
       "      <th>Date</th>\n",
       "      <th></th>\n",
       "      <th></th>\n",
       "    </tr>\n",
       "  </thead>\n",
       "  <tbody>\n",
       "    <tr>\n",
       "      <th>2014-01-01</th>\n",
       "      <td>6242.525</td>\n",
       "      <td>NaN</td>\n",
       "    </tr>\n",
       "    <tr>\n",
       "      <th>2014-02-01</th>\n",
       "      <td>1839.658</td>\n",
       "      <td>NaN</td>\n",
       "    </tr>\n",
       "    <tr>\n",
       "      <th>2014-03-01</th>\n",
       "      <td>14573.956</td>\n",
       "      <td>NaN</td>\n",
       "    </tr>\n",
       "    <tr>\n",
       "      <th>2014-04-01</th>\n",
       "      <td>7944.837</td>\n",
       "      <td>NaN</td>\n",
       "    </tr>\n",
       "    <tr>\n",
       "      <th>2014-05-01</th>\n",
       "      <td>6912.787</td>\n",
       "      <td>7502.7526</td>\n",
       "    </tr>\n",
       "  </tbody>\n",
       "</table>\n",
       "</div>"
      ],
      "text/plain": [
       "                Sales  Moving Average\n",
       "Date                                 \n",
       "2014-01-01   6242.525             NaN\n",
       "2014-02-01   1839.658             NaN\n",
       "2014-03-01  14573.956             NaN\n",
       "2014-04-01   7944.837             NaN\n",
       "2014-05-01   6912.787       7502.7526"
      ]
     },
     "execution_count": 12,
     "metadata": {},
     "output_type": "execute_result"
    }
   ],
   "source": [
    "data_furn.head()"
   ]
  },
  {
   "cell_type": "code",
   "execution_count": 13,
   "metadata": {},
   "outputs": [],
   "source": [
    "data_supp['Moving Average'] = data_supp['Sales'].rolling(window=5).mean()"
   ]
  },
  {
   "cell_type": "code",
   "execution_count": 14,
   "metadata": {},
   "outputs": [
    {
     "data": {
      "text/html": [
       "<div>\n",
       "<style scoped>\n",
       "    .dataframe tbody tr th:only-of-type {\n",
       "        vertical-align: middle;\n",
       "    }\n",
       "\n",
       "    .dataframe tbody tr th {\n",
       "        vertical-align: top;\n",
       "    }\n",
       "\n",
       "    .dataframe thead th {\n",
       "        text-align: right;\n",
       "    }\n",
       "</style>\n",
       "<table border=\"1\" class=\"dataframe\">\n",
       "  <thead>\n",
       "    <tr style=\"text-align: right;\">\n",
       "      <th></th>\n",
       "      <th>Sales</th>\n",
       "      <th>Moving Average</th>\n",
       "    </tr>\n",
       "    <tr>\n",
       "      <th>Date</th>\n",
       "      <th></th>\n",
       "      <th></th>\n",
       "    </tr>\n",
       "  </thead>\n",
       "  <tbody>\n",
       "    <tr>\n",
       "      <th>2014-01-01</th>\n",
       "      <td>4851.080</td>\n",
       "      <td>NaN</td>\n",
       "    </tr>\n",
       "    <tr>\n",
       "      <th>2014-02-01</th>\n",
       "      <td>1071.724</td>\n",
       "      <td>NaN</td>\n",
       "    </tr>\n",
       "    <tr>\n",
       "      <th>2014-03-01</th>\n",
       "      <td>8605.879</td>\n",
       "      <td>NaN</td>\n",
       "    </tr>\n",
       "    <tr>\n",
       "      <th>2014-04-01</th>\n",
       "      <td>11155.074</td>\n",
       "      <td>NaN</td>\n",
       "    </tr>\n",
       "    <tr>\n",
       "      <th>2014-05-01</th>\n",
       "      <td>7135.624</td>\n",
       "      <td>6563.8762</td>\n",
       "    </tr>\n",
       "  </tbody>\n",
       "</table>\n",
       "</div>"
      ],
      "text/plain": [
       "                Sales  Moving Average\n",
       "Date                                 \n",
       "2014-01-01   4851.080             NaN\n",
       "2014-02-01   1071.724             NaN\n",
       "2014-03-01   8605.879             NaN\n",
       "2014-04-01  11155.074             NaN\n",
       "2014-05-01   7135.624       6563.8762"
      ]
     },
     "execution_count": 14,
     "metadata": {},
     "output_type": "execute_result"
    }
   ],
   "source": [
    "data_supp.head()"
   ]
  },
  {
   "cell_type": "code",
   "execution_count": 15,
   "metadata": {},
   "outputs": [],
   "source": [
    "c = 0\n",
    "s = 0\n",
    "for index , row in data_furn.iterrows():\n",
    "    c = c+1\n",
    "    if c >= 45:\n",
    "        s = s + row[\"Sales\"]\n",
    "        \n",
    "furn_2018_sales[:] = s/4"
   ]
  },
  {
   "cell_type": "code",
   "execution_count": 16,
   "metadata": {},
   "outputs": [],
   "source": [
    "c = 0\n",
    "s = 0\n",
    "for index , row in data_supp.iterrows():\n",
    "    c = c+1\n",
    "    if c >= 45:\n",
    "        s = s + row[\"Sales\"]\n",
    "        \n",
    "supp_2018_sales[:] = s/4"
   ]
  },
  {
   "cell_type": "code",
   "execution_count": 17,
   "metadata": {},
   "outputs": [
    {
     "data": {
      "text/html": [
       "<div>\n",
       "<style scoped>\n",
       "    .dataframe tbody tr th:only-of-type {\n",
       "        vertical-align: middle;\n",
       "    }\n",
       "\n",
       "    .dataframe tbody tr th {\n",
       "        vertical-align: top;\n",
       "    }\n",
       "\n",
       "    .dataframe thead th {\n",
       "        text-align: right;\n",
       "    }\n",
       "</style>\n",
       "<table border=\"1\" class=\"dataframe\">\n",
       "  <thead>\n",
       "    <tr style=\"text-align: right;\">\n",
       "      <th></th>\n",
       "      <th>Sales</th>\n",
       "      <th>Moving Average</th>\n",
       "      <th>α=0.1</th>\n",
       "    </tr>\n",
       "    <tr>\n",
       "      <th>Date</th>\n",
       "      <th></th>\n",
       "      <th></th>\n",
       "      <th></th>\n",
       "    </tr>\n",
       "  </thead>\n",
       "  <tbody>\n",
       "    <tr>\n",
       "      <th>2014-01-01</th>\n",
       "      <td>6242.525</td>\n",
       "      <td>NaN</td>\n",
       "      <td>6242.525000</td>\n",
       "    </tr>\n",
       "    <tr>\n",
       "      <th>2014-02-01</th>\n",
       "      <td>1839.658</td>\n",
       "      <td>NaN</td>\n",
       "      <td>5802.238300</td>\n",
       "    </tr>\n",
       "    <tr>\n",
       "      <th>2014-03-01</th>\n",
       "      <td>14573.956</td>\n",
       "      <td>NaN</td>\n",
       "      <td>6679.410070</td>\n",
       "    </tr>\n",
       "    <tr>\n",
       "      <th>2014-04-01</th>\n",
       "      <td>7944.837</td>\n",
       "      <td>NaN</td>\n",
       "      <td>6805.952763</td>\n",
       "    </tr>\n",
       "    <tr>\n",
       "      <th>2014-05-01</th>\n",
       "      <td>6912.787</td>\n",
       "      <td>7502.7526</td>\n",
       "      <td>6816.636187</td>\n",
       "    </tr>\n",
       "  </tbody>\n",
       "</table>\n",
       "</div>"
      ],
      "text/plain": [
       "                Sales  Moving Average        α=0.1\n",
       "Date                                              \n",
       "2014-01-01   6242.525             NaN  6242.525000\n",
       "2014-02-01   1839.658             NaN  5802.238300\n",
       "2014-03-01  14573.956             NaN  6679.410070\n",
       "2014-04-01   7944.837             NaN  6805.952763\n",
       "2014-05-01   6912.787       7502.7526  6816.636187"
      ]
     },
     "execution_count": 17,
     "metadata": {},
     "output_type": "execute_result"
    }
   ],
   "source": [
    "data_furn['α=0.1'] = data_furn['Sales'].ewm(alpha=0.1, adjust=False).mean()\n",
    "data_furn.head()"
   ]
  },
  {
   "cell_type": "code",
   "execution_count": 18,
   "metadata": {},
   "outputs": [
    {
     "data": {
      "text/html": [
       "<div>\n",
       "<style scoped>\n",
       "    .dataframe tbody tr th:only-of-type {\n",
       "        vertical-align: middle;\n",
       "    }\n",
       "\n",
       "    .dataframe tbody tr th {\n",
       "        vertical-align: top;\n",
       "    }\n",
       "\n",
       "    .dataframe thead th {\n",
       "        text-align: right;\n",
       "    }\n",
       "</style>\n",
       "<table border=\"1\" class=\"dataframe\">\n",
       "  <thead>\n",
       "    <tr style=\"text-align: right;\">\n",
       "      <th></th>\n",
       "      <th>Sales</th>\n",
       "      <th>Moving Average</th>\n",
       "      <th>α=0.1</th>\n",
       "      <th>α=0.5</th>\n",
       "    </tr>\n",
       "    <tr>\n",
       "      <th>Date</th>\n",
       "      <th></th>\n",
       "      <th></th>\n",
       "      <th></th>\n",
       "      <th></th>\n",
       "    </tr>\n",
       "  </thead>\n",
       "  <tbody>\n",
       "    <tr>\n",
       "      <th>2014-01-01</th>\n",
       "      <td>6242.525</td>\n",
       "      <td>NaN</td>\n",
       "      <td>6242.525000</td>\n",
       "      <td>6242.525000</td>\n",
       "    </tr>\n",
       "    <tr>\n",
       "      <th>2014-02-01</th>\n",
       "      <td>1839.658</td>\n",
       "      <td>NaN</td>\n",
       "      <td>5802.238300</td>\n",
       "      <td>4041.091500</td>\n",
       "    </tr>\n",
       "    <tr>\n",
       "      <th>2014-03-01</th>\n",
       "      <td>14573.956</td>\n",
       "      <td>NaN</td>\n",
       "      <td>6679.410070</td>\n",
       "      <td>9307.523750</td>\n",
       "    </tr>\n",
       "    <tr>\n",
       "      <th>2014-04-01</th>\n",
       "      <td>7944.837</td>\n",
       "      <td>NaN</td>\n",
       "      <td>6805.952763</td>\n",
       "      <td>8626.180375</td>\n",
       "    </tr>\n",
       "    <tr>\n",
       "      <th>2014-05-01</th>\n",
       "      <td>6912.787</td>\n",
       "      <td>7502.7526</td>\n",
       "      <td>6816.636187</td>\n",
       "      <td>7769.483688</td>\n",
       "    </tr>\n",
       "  </tbody>\n",
       "</table>\n",
       "</div>"
      ],
      "text/plain": [
       "                Sales  Moving Average        α=0.1        α=0.5\n",
       "Date                                                           \n",
       "2014-01-01   6242.525             NaN  6242.525000  6242.525000\n",
       "2014-02-01   1839.658             NaN  5802.238300  4041.091500\n",
       "2014-03-01  14573.956             NaN  6679.410070  9307.523750\n",
       "2014-04-01   7944.837             NaN  6805.952763  8626.180375\n",
       "2014-05-01   6912.787       7502.7526  6816.636187  7769.483688"
      ]
     },
     "execution_count": 18,
     "metadata": {},
     "output_type": "execute_result"
    }
   ],
   "source": [
    "data_furn['α=0.5'] = data_furn['Sales'].ewm(alpha=0.5, adjust=False).mean()\n",
    "data_furn.head()"
   ]
  },
  {
   "cell_type": "code",
   "execution_count": 19,
   "metadata": {},
   "outputs": [
    {
     "data": {
      "text/html": [
       "<div>\n",
       "<style scoped>\n",
       "    .dataframe tbody tr th:only-of-type {\n",
       "        vertical-align: middle;\n",
       "    }\n",
       "\n",
       "    .dataframe tbody tr th {\n",
       "        vertical-align: top;\n",
       "    }\n",
       "\n",
       "    .dataframe thead th {\n",
       "        text-align: right;\n",
       "    }\n",
       "</style>\n",
       "<table border=\"1\" class=\"dataframe\">\n",
       "  <thead>\n",
       "    <tr style=\"text-align: right;\">\n",
       "      <th></th>\n",
       "      <th>Sales</th>\n",
       "      <th>Moving Average</th>\n",
       "      <th>α=0.1</th>\n",
       "    </tr>\n",
       "    <tr>\n",
       "      <th>Date</th>\n",
       "      <th></th>\n",
       "      <th></th>\n",
       "      <th></th>\n",
       "    </tr>\n",
       "  </thead>\n",
       "  <tbody>\n",
       "    <tr>\n",
       "      <th>2014-01-01</th>\n",
       "      <td>4851.080</td>\n",
       "      <td>NaN</td>\n",
       "      <td>4851.080000</td>\n",
       "    </tr>\n",
       "    <tr>\n",
       "      <th>2014-02-01</th>\n",
       "      <td>1071.724</td>\n",
       "      <td>NaN</td>\n",
       "      <td>4473.144400</td>\n",
       "    </tr>\n",
       "    <tr>\n",
       "      <th>2014-03-01</th>\n",
       "      <td>8605.879</td>\n",
       "      <td>NaN</td>\n",
       "      <td>4886.417860</td>\n",
       "    </tr>\n",
       "    <tr>\n",
       "      <th>2014-04-01</th>\n",
       "      <td>11155.074</td>\n",
       "      <td>NaN</td>\n",
       "      <td>5513.283474</td>\n",
       "    </tr>\n",
       "    <tr>\n",
       "      <th>2014-05-01</th>\n",
       "      <td>7135.624</td>\n",
       "      <td>6563.8762</td>\n",
       "      <td>5675.517527</td>\n",
       "    </tr>\n",
       "  </tbody>\n",
       "</table>\n",
       "</div>"
      ],
      "text/plain": [
       "                Sales  Moving Average        α=0.1\n",
       "Date                                              \n",
       "2014-01-01   4851.080             NaN  4851.080000\n",
       "2014-02-01   1071.724             NaN  4473.144400\n",
       "2014-03-01   8605.879             NaN  4886.417860\n",
       "2014-04-01  11155.074             NaN  5513.283474\n",
       "2014-05-01   7135.624       6563.8762  5675.517527"
      ]
     },
     "execution_count": 19,
     "metadata": {},
     "output_type": "execute_result"
    }
   ],
   "source": [
    "data_supp['α=0.1'] = data_supp['Sales'].ewm(alpha=0.1, adjust=False).mean()\n",
    "data_supp.head()"
   ]
  },
  {
   "cell_type": "code",
   "execution_count": 20,
   "metadata": {},
   "outputs": [
    {
     "data": {
      "text/html": [
       "<div>\n",
       "<style scoped>\n",
       "    .dataframe tbody tr th:only-of-type {\n",
       "        vertical-align: middle;\n",
       "    }\n",
       "\n",
       "    .dataframe tbody tr th {\n",
       "        vertical-align: top;\n",
       "    }\n",
       "\n",
       "    .dataframe thead th {\n",
       "        text-align: right;\n",
       "    }\n",
       "</style>\n",
       "<table border=\"1\" class=\"dataframe\">\n",
       "  <thead>\n",
       "    <tr style=\"text-align: right;\">\n",
       "      <th></th>\n",
       "      <th>Sales</th>\n",
       "      <th>Moving Average</th>\n",
       "      <th>α=0.1</th>\n",
       "      <th>α=0.5</th>\n",
       "    </tr>\n",
       "    <tr>\n",
       "      <th>Date</th>\n",
       "      <th></th>\n",
       "      <th></th>\n",
       "      <th></th>\n",
       "      <th></th>\n",
       "    </tr>\n",
       "  </thead>\n",
       "  <tbody>\n",
       "    <tr>\n",
       "      <th>2014-01-01</th>\n",
       "      <td>4851.080</td>\n",
       "      <td>NaN</td>\n",
       "      <td>4851.080000</td>\n",
       "      <td>4851.080000</td>\n",
       "    </tr>\n",
       "    <tr>\n",
       "      <th>2014-02-01</th>\n",
       "      <td>1071.724</td>\n",
       "      <td>NaN</td>\n",
       "      <td>4473.144400</td>\n",
       "      <td>2961.402000</td>\n",
       "    </tr>\n",
       "    <tr>\n",
       "      <th>2014-03-01</th>\n",
       "      <td>8605.879</td>\n",
       "      <td>NaN</td>\n",
       "      <td>4886.417860</td>\n",
       "      <td>5783.640500</td>\n",
       "    </tr>\n",
       "    <tr>\n",
       "      <th>2014-04-01</th>\n",
       "      <td>11155.074</td>\n",
       "      <td>NaN</td>\n",
       "      <td>5513.283474</td>\n",
       "      <td>8469.357250</td>\n",
       "    </tr>\n",
       "    <tr>\n",
       "      <th>2014-05-01</th>\n",
       "      <td>7135.624</td>\n",
       "      <td>6563.8762</td>\n",
       "      <td>5675.517527</td>\n",
       "      <td>7802.490625</td>\n",
       "    </tr>\n",
       "  </tbody>\n",
       "</table>\n",
       "</div>"
      ],
      "text/plain": [
       "                Sales  Moving Average        α=0.1        α=0.5\n",
       "Date                                                           \n",
       "2014-01-01   4851.080             NaN  4851.080000  4851.080000\n",
       "2014-02-01   1071.724             NaN  4473.144400  2961.402000\n",
       "2014-03-01   8605.879             NaN  4886.417860  5783.640500\n",
       "2014-04-01  11155.074             NaN  5513.283474  8469.357250\n",
       "2014-05-01   7135.624       6563.8762  5675.517527  7802.490625"
      ]
     },
     "execution_count": 20,
     "metadata": {},
     "output_type": "execute_result"
    }
   ],
   "source": [
    "data_supp['α=0.5'] = data_supp['Sales'].ewm(alpha=0.5, adjust=False).mean()\n",
    "data_supp.head()"
   ]
  },
  {
   "cell_type": "code",
   "execution_count": 21,
   "metadata": {},
   "outputs": [],
   "source": [
    "furn_2018_sales2_alpa1=np.zeros(12)\n",
    "supp_2018_sales2_alpa1=np.zeros(12)\n",
    "furn_2018_sales2_alpa2=np.zeros(12)\n",
    "supp_2018_sales2_alpa2=np.zeros(12)"
   ]
  },
  {
   "cell_type": "code",
   "execution_count": 22,
   "metadata": {},
   "outputs": [],
   "source": [
    "yt = 0\n",
    "ft1 = 0\n",
    "ft2 = 0\n",
    "c = 0\n",
    "for index , row in data_furn.iterrows():\n",
    "    c = c +1 \n",
    "    if c == 48:\n",
    "        yt = row[\"Sales\"]\n",
    "        ft1 = row[\"α=0.1\"]\n",
    "        ft2 = row[\"α=0.5\"]"
   ]
  },
  {
   "cell_type": "code",
   "execution_count": 23,
   "metadata": {},
   "outputs": [],
   "source": [
    "furn_2018_sales2_alpa1[:] = 0.1*yt + 0.9*ft1\n",
    "furn_2018_sales2_alpa2[:] = 0.5*yt + 0.5*ft2"
   ]
  },
  {
   "cell_type": "code",
   "execution_count": 24,
   "metadata": {},
   "outputs": [],
   "source": [
    "yt = 0\n",
    "ft1 = 0\n",
    "ft2 = 0\n",
    "c = 0\n",
    "for index , row in data_supp.iterrows():\n",
    "    c = c +1 \n",
    "    if c == 48:\n",
    "        yt = row[\"Sales\"]\n",
    "        ft1 = row[\"α=0.1\"]\n",
    "        ft2 = row[\"α=0.5\"]"
   ]
  },
  {
   "cell_type": "code",
   "execution_count": 25,
   "metadata": {},
   "outputs": [],
   "source": [
    "supp_2018_sales2_alpa1[:] = 0.1*yt + 0.9*ft1\n",
    "supp_2018_sales2_alpa2[:] = 0.5*yt + 0.5*ft2"
   ]
  },
  {
   "cell_type": "code",
   "execution_count": 26,
   "metadata": {},
   "outputs": [
    {
     "data": {
      "image/png": "[encoded data removed]",
      "text/plain": [
       "<Figure size 432x288 with 1 Axes>"
      ]
     },
     "metadata": {
      "needs_background": "light"
     },
     "output_type": "display_data"
    }
   ],
   "source": [
    "data_furn.plot()\n",
    "plt.ylabel(\"Sales\")\n",
    "plt.xlabel(\"Time\")\n",
    "plt.title(\"Forecast for furniture\")\n",
    "plt.show()"
   ]
  },
  {
   "cell_type": "code",
   "execution_count": 27,
   "metadata": {},
   "outputs": [
    {
     "data": {
      "image/png": "[encoded data removed]",
      "text/plain": [
       "<Figure size 432x288 with 1 Axes>"
      ]
     },
     "metadata": {
      "needs_background": "light"
     },
     "output_type": "display_data"
    }
   ],
   "source": [
    "data_supp.plot()\n",
    "plt.ylabel(\"Sales\")\n",
    "plt.xlabel(\"Time\")\n",
    "plt.title(\"Forecast for Office Suppiles\")\n",
    "plt.show()"
   ]
  },
  {
   "cell_type": "code",
   "execution_count": 28,
   "metadata": {},
   "outputs": [
    {
     "data": {
      "image/png": "[encoded data removed]",
      "text/plain": [
       "<Figure size 648x360 with 4 Axes>"
      ]
     },
     "metadata": {
      "needs_background": "light"
     },
     "output_type": "display_data"
    }
   ],
   "source": [
    "rcParams['figure.figsize'] = 9, 5\n",
    "decomposition = seasonal_decompose(data_furn['Sales'], model='multiplicative')\n",
    "fig = decomposition.plot()\n",
    "plt.show()"
   ]
  },
  {
   "cell_type": "code",
   "execution_count": 38,
   "metadata": {},
   "outputs": [
    {
     "data": {
      "text/html": [
       "<div>\n",
       "<style scoped>\n",
       "    .dataframe tbody tr th:only-of-type {\n",
       "        vertical-align: middle;\n",
       "    }\n",
       "\n",
       "    .dataframe tbody tr th {\n",
       "        vertical-align: top;\n",
       "    }\n",
       "\n",
       "    .dataframe thead th {\n",
       "        text-align: right;\n",
       "    }\n",
       "</style>\n",
       "<table border=\"1\" class=\"dataframe\">\n",
       "  <thead>\n",
       "    <tr style=\"text-align: right;\">\n",
       "      <th></th>\n",
       "      <th>seas</th>\n",
       "      <th>trend</th>\n",
       "      <th>resid</th>\n",
       "      <th>actual_values</th>\n",
       "      <th>forcast</th>\n",
       "    </tr>\n",
       "    <tr>\n",
       "      <th>Date</th>\n",
       "      <th></th>\n",
       "      <th></th>\n",
       "      <th></th>\n",
       "      <th></th>\n",
       "      <th></th>\n",
       "    </tr>\n",
       "  </thead>\n",
       "  <tbody>\n",
       "    <tr>\n",
       "      <th>2014-01-01</th>\n",
       "      <td>0.574453</td>\n",
       "      <td>NaN</td>\n",
       "      <td>NaN</td>\n",
       "      <td>6242.5250</td>\n",
       "      <td>NaN</td>\n",
       "    </tr>\n",
       "    <tr>\n",
       "      <th>2014-02-01</th>\n",
       "      <td>0.297418</td>\n",
       "      <td>NaN</td>\n",
       "      <td>NaN</td>\n",
       "      <td>1839.6580</td>\n",
       "      <td>NaN</td>\n",
       "    </tr>\n",
       "    <tr>\n",
       "      <th>2014-03-01</th>\n",
       "      <td>0.788004</td>\n",
       "      <td>NaN</td>\n",
       "      <td>NaN</td>\n",
       "      <td>14573.9560</td>\n",
       "      <td>NaN</td>\n",
       "    </tr>\n",
       "    <tr>\n",
       "      <th>2014-04-01</th>\n",
       "      <td>0.705844</td>\n",
       "      <td>NaN</td>\n",
       "      <td>NaN</td>\n",
       "      <td>7944.8370</td>\n",
       "      <td>NaN</td>\n",
       "    </tr>\n",
       "    <tr>\n",
       "      <th>2014-05-01</th>\n",
       "      <td>0.853206</td>\n",
       "      <td>NaN</td>\n",
       "      <td>NaN</td>\n",
       "      <td>6912.7870</td>\n",
       "      <td>NaN</td>\n",
       "    </tr>\n",
       "    <tr>\n",
       "      <th>2014-06-01</th>\n",
       "      <td>0.796706</td>\n",
       "      <td>NaN</td>\n",
       "      <td>NaN</td>\n",
       "      <td>13206.1256</td>\n",
       "      <td>NaN</td>\n",
       "    </tr>\n",
       "    <tr>\n",
       "      <th>2014-07-01</th>\n",
       "      <td>0.857910</td>\n",
       "      <td>13328.463450</td>\n",
       "      <td>0.946340</td>\n",
       "      <td>10821.0510</td>\n",
       "      <td>10821.0510</td>\n",
       "    </tr>\n",
       "    <tr>\n",
       "      <th>2014-08-01</th>\n",
       "      <td>0.660678</td>\n",
       "      <td>13611.468975</td>\n",
       "      <td>0.814023</td>\n",
       "      <td>7320.3465</td>\n",
       "      <td>7320.3465</td>\n",
       "    </tr>\n",
       "    <tr>\n",
       "      <th>2014-09-01</th>\n",
       "      <td>1.757303</td>\n",
       "      <td>13578.991600</td>\n",
       "      <td>0.998076</td>\n",
       "      <td>23816.4808</td>\n",
       "      <td>23816.4808</td>\n",
       "    </tr>\n",
       "    <tr>\n",
       "      <th>2014-10-01</th>\n",
       "      <td>0.827278</td>\n",
       "      <td>13598.020287</td>\n",
       "      <td>1.093775</td>\n",
       "      <td>12304.2470</td>\n",
       "      <td>12304.2470</td>\n",
       "    </tr>\n",
       "  </tbody>\n",
       "</table>\n",
       "</div>"
      ],
      "text/plain": [
       "                seas         trend     resid  actual_values     forcast\n",
       "Date                                                                   \n",
       "2014-01-01  0.574453           NaN       NaN      6242.5250         NaN\n",
       "2014-02-01  0.297418           NaN       NaN      1839.6580         NaN\n",
       "2014-03-01  0.788004           NaN       NaN     14573.9560         NaN\n",
       "2014-04-01  0.705844           NaN       NaN      7944.8370         NaN\n",
       "2014-05-01  0.853206           NaN       NaN      6912.7870         NaN\n",
       "2014-06-01  0.796706           NaN       NaN     13206.1256         NaN\n",
       "2014-07-01  0.857910  13328.463450  0.946340     10821.0510  10821.0510\n",
       "2014-08-01  0.660678  13611.468975  0.814023      7320.3465   7320.3465\n",
       "2014-09-01  1.757303  13578.991600  0.998076     23816.4808  23816.4808\n",
       "2014-10-01  0.827278  13598.020287  1.093775     12304.2470  12304.2470"
      ]
     },
     "execution_count": 38,
     "metadata": {},
     "output_type": "execute_result"
    }
   ],
   "source": [
    "df_decomposition = pd.concat([decomposition.seasonal, decomposition.trend, decomposition.resid, decomposition.observed], axis=1)\n",
    "df_decomposition.columns = ['seas', 'trend', 'resid', 'actual_values']\n",
    "df_decomposition[\"forcast\"] = df_decomposition[\"seas\"] * df_decomposition[\"trend\"] * df_decomposition[\"resid\"]\n",
    "df_decomposition.head(10)"
   ]
  },
  {
   "cell_type": "code",
   "execution_count": 29,
   "metadata": {},
   "outputs": [
    {
     "data": {
      "image/png": "[encoded data removed]",
      "text/plain": [
       "<Figure size 648x360 with 4 Axes>"
      ]
     },
     "metadata": {
      "needs_background": "light"
     },
     "output_type": "display_data"
    }
   ],
   "source": [
    "rcParams['figure.figsize'] = 9, 5\n",
    "decomposition2 = seasonal_decompose(data_supp['Sales'], model='multiplicative')\n",
    "fig = decomposition2.plot()\n",
    "plt.show()"
   ]
  },
  {
   "cell_type": "code",
   "execution_count": 51,
   "metadata": {},
   "outputs": [
    {
     "data": {
      "text/html": [
       "<div>\n",
       "<style scoped>\n",
       "    .dataframe tbody tr th:only-of-type {\n",
       "        vertical-align: middle;\n",
       "    }\n",
       "\n",
       "    .dataframe tbody tr th {\n",
       "        vertical-align: top;\n",
       "    }\n",
       "\n",
       "    .dataframe thead th {\n",
       "        text-align: right;\n",
       "    }\n",
       "</style>\n",
       "<table border=\"1\" class=\"dataframe\">\n",
       "  <thead>\n",
       "    <tr style=\"text-align: right;\">\n",
       "      <th></th>\n",
       "      <th>seas</th>\n",
       "      <th>trend</th>\n",
       "      <th>resid</th>\n",
       "      <th>actual_values</th>\n",
       "      <th>forcast</th>\n",
       "    </tr>\n",
       "    <tr>\n",
       "      <th>Date</th>\n",
       "      <th></th>\n",
       "      <th></th>\n",
       "      <th></th>\n",
       "      <th></th>\n",
       "      <th></th>\n",
       "    </tr>\n",
       "  </thead>\n",
       "  <tbody>\n",
       "    <tr>\n",
       "      <th>2014-01-01</th>\n",
       "      <td>0.595389</td>\n",
       "      <td>NaN</td>\n",
       "      <td>NaN</td>\n",
       "      <td>4851.080</td>\n",
       "      <td>NaN</td>\n",
       "    </tr>\n",
       "    <tr>\n",
       "      <th>2014-02-01</th>\n",
       "      <td>0.454967</td>\n",
       "      <td>NaN</td>\n",
       "      <td>NaN</td>\n",
       "      <td>1071.724</td>\n",
       "      <td>NaN</td>\n",
       "    </tr>\n",
       "    <tr>\n",
       "      <th>2014-03-01</th>\n",
       "      <td>1.130893</td>\n",
       "      <td>NaN</td>\n",
       "      <td>NaN</td>\n",
       "      <td>8605.879</td>\n",
       "      <td>NaN</td>\n",
       "    </tr>\n",
       "    <tr>\n",
       "      <th>2014-04-01</th>\n",
       "      <td>0.865263</td>\n",
       "      <td>NaN</td>\n",
       "      <td>NaN</td>\n",
       "      <td>11155.074</td>\n",
       "      <td>NaN</td>\n",
       "    </tr>\n",
       "    <tr>\n",
       "      <th>2014-05-01</th>\n",
       "      <td>0.796124</td>\n",
       "      <td>NaN</td>\n",
       "      <td>NaN</td>\n",
       "      <td>7135.624</td>\n",
       "      <td>NaN</td>\n",
       "    </tr>\n",
       "    <tr>\n",
       "      <th>2014-06-01</th>\n",
       "      <td>0.827814</td>\n",
       "      <td>NaN</td>\n",
       "      <td>NaN</td>\n",
       "      <td>12953.037</td>\n",
       "      <td>NaN</td>\n",
       "    </tr>\n",
       "    <tr>\n",
       "      <th>2014-07-01</th>\n",
       "      <td>0.804604</td>\n",
       "      <td>12521.271833</td>\n",
       "      <td>1.500914</td>\n",
       "      <td>15121.208</td>\n",
       "      <td>15121.208</td>\n",
       "    </tr>\n",
       "    <tr>\n",
       "      <th>2014-08-01</th>\n",
       "      <td>0.809386</td>\n",
       "      <td>12573.523625</td>\n",
       "      <td>1.118173</td>\n",
       "      <td>11379.462</td>\n",
       "      <td>11379.462</td>\n",
       "    </tr>\n",
       "    <tr>\n",
       "      <th>2014-09-01</th>\n",
       "      <td>1.701270</td>\n",
       "      <td>13055.732417</td>\n",
       "      <td>1.234654</td>\n",
       "      <td>27423.298</td>\n",
       "      <td>27423.298</td>\n",
       "    </tr>\n",
       "    <tr>\n",
       "      <th>2014-10-01</th>\n",
       "      <td>0.745150</td>\n",
       "      <td>13417.405417</td>\n",
       "      <td>0.721258</td>\n",
       "      <td>7211.128</td>\n",
       "      <td>7211.128</td>\n",
       "    </tr>\n",
       "  </tbody>\n",
       "</table>\n",
       "</div>"
      ],
      "text/plain": [
       "                seas         trend     resid  actual_values    forcast\n",
       "Date                                                                  \n",
       "2014-01-01  0.595389           NaN       NaN       4851.080        NaN\n",
       "2014-02-01  0.454967           NaN       NaN       1071.724        NaN\n",
       "2014-03-01  1.130893           NaN       NaN       8605.879        NaN\n",
       "2014-04-01  0.865263           NaN       NaN      11155.074        NaN\n",
       "2014-05-01  0.796124           NaN       NaN       7135.624        NaN\n",
       "2014-06-01  0.827814           NaN       NaN      12953.037        NaN\n",
       "2014-07-01  0.804604  12521.271833  1.500914      15121.208  15121.208\n",
       "2014-08-01  0.809386  12573.523625  1.118173      11379.462  11379.462\n",
       "2014-09-01  1.701270  13055.732417  1.234654      27423.298  27423.298\n",
       "2014-10-01  0.745150  13417.405417  0.721258       7211.128   7211.128"
      ]
     },
     "execution_count": 51,
     "metadata": {},
     "output_type": "execute_result"
    }
   ],
   "source": [
    "df_decomposition2 = pd.concat([decomposition2.seasonal, decomposition2.trend, decomposition2.resid, decomposition2.observed], axis=1)\n",
    "df_decomposition2.columns = ['seas', 'trend', 'resid', 'actual_values']\n",
    "df_decomposition2.head()\n",
    "df_decomposition2[\"forcast\"] = df_decomposition2[\"seas\"] * df_decomposition2[\"trend\"] * df_decomposition2[\"resid\"]\n",
    "df_decomposition2.head(10)"
   ]
  },
  {
   "cell_type": "markdown",
   "metadata": {},
   "source": [
    "\n",
    "## Step #3"
   ]
  },
  {
   "cell_type": "code",
   "execution_count": 30,
   "metadata": {},
   "outputs": [],
   "source": [
    "def MSE(yt, ft):\n",
    "    return mean((yt - ft) ** 2)\n",
    "\n",
    "\n",
    "def MAPE(yt, ft):\n",
    "    return mean(abs(yt - ft) / yt)\n",
    "\n",
    "\n",
    "def LAD(yt, ft):\n",
    "    return max(abs(yt - ft))"
   ]
  },
  {
   "cell_type": "code",
   "execution_count": 67,
   "metadata": {
    "scrolled": false
   },
   "outputs": [
    {
     "name": "stdout",
     "output_type": "stream",
     "text": [
      "59590251.45285188\n",
      "66472795.62369701\n",
      "20412909.269498646\n",
      "nan\n",
      "42910148.23829201\n",
      "54129334.48137161\n",
      "15686853.279430183\n",
      "nan\n"
     ]
    }
   ],
   "source": [
    "print(MSE(data_furn['Sales'].iloc[4:], data_furn['Moving Average'].iloc[4:]))\n",
    "print(MSE(data_furn['Sales'], data_furn['α=0.1']))\n",
    "print(MSE(data_furn['Sales'], data_furn['α=0.5']))\n",
    "print(MSE(df_decomposition['actual_values'].iloc[8:], df_decomposition[\"forcast\"].iloc[8:]))\n",
    "      \n",
    "    \n",
    "print(MSE(data_supp['Sales'].iloc[4:], data_supp['Moving Average'].iloc[4:]))\n",
    "print(MSE(data_supp['Sales'], data_supp['α=0.1']))\n",
    "print(MSE(data_supp['Sales'], data_supp['α=0.5']))\n",
    "print(MSE(df_decomposition2['actual_values'].iloc[8:], df_decomposition2[\"forcast\"].iloc[8:]))"
   ]
  },
  {
   "cell_type": "code",
   "execution_count": 68,
   "metadata": {},
   "outputs": [
    {
     "name": "stdout",
     "output_type": "stream",
     "text": [
      "0.5317948306837929\n",
      "0.4708648483814236\n",
      "0.32122629909908396\n",
      "nan\n",
      "0.5285830270800875\n",
      "0.520674726560441\n",
      "0.3492183448085996\n",
      "nan\n"
     ]
    }
   ],
   "source": [
    "print(MAPE(data_furn['Sales'].iloc[4:], data_furn['Moving Average'].iloc[4:]))\n",
    "print(MAPE(data_furn['Sales'], data_furn['α=0.1']))\n",
    "print(MAPE(data_furn['Sales'], data_furn['α=0.5']))\n",
    "print(MAPE(df_decomposition['actual_values'].iloc[8:], df_decomposition[\"forcast\"].iloc[8:]))\n",
    "\n",
    "\n",
    "\n",
    "print(MAPE(data_supp['Sales'].iloc[4:], data_supp['Moving Average'].iloc[4:]))\n",
    "print(MAPE(data_supp['Sales'], data_supp['α=0.1']))\n",
    "print(MAPE(data_supp['Sales'], data_supp['α=0.5']))\n",
    "print(MAPE(df_decomposition2['actual_values'].iloc[8:], df_decomposition2[\"forcast\"].iloc[8:]))\n"
   ]
  },
  {
   "cell_type": "code",
   "execution_count": 69,
   "metadata": {},
   "outputs": [
    {
     "name": "stdout",
     "output_type": "stream",
     "text": [
      "16748.33473999999\n",
      "18428.154291698833\n",
      "18428.154291698833\n",
      "3.637978807091713e-12\n",
      "16599.542800000017\n",
      "21739.692796747644\n",
      "21739.692796747644\n",
      "3.637978807091713e-12\n"
     ]
    }
   ],
   "source": [
    "print(LAD(data_furn['Sales'].iloc[4:], data_furn['Moving Average'].iloc[4:]))\n",
    "print(LAD(data_furn['Sales'], data_furn['α=0.1']))\n",
    "print(LAD(data_furn['Sales'], data_furn['α=0.1']))\n",
    "print(LAD(df_decomposition['actual_values'].iloc[8:], df_decomposition[\"forcast\"].iloc[8:]))\n",
    "\n",
    "print(LAD(data_supp['Sales'].iloc[4:], data_supp['Moving Average'].iloc[4:]))\n",
    "print(LAD(data_supp['Sales'], data_supp['α=0.1']))\n",
    "print(LAD(data_supp['Sales'], data_supp['α=0.1']))\n",
    "print(LAD(df_decomposition2['actual_values'].iloc[8:], df_decomposition2[\"forcast\"].iloc[8:]))"
   ]
  },
  {
   "cell_type": "code",
   "execution_count": 70,
   "metadata": {},
   "outputs": [],
   "source": [
    "from sklearn.linear_model import LinearRegression"
   ]
  },
  {
   "cell_type": "code",
   "execution_count": 73,
   "metadata": {},
   "outputs": [],
   "source": [
    "model_1 = LinearRegression()"
   ]
  },
  {
   "cell_type": "code",
   "execution_count": 107,
   "metadata": {
    "scrolled": true
   },
   "outputs": [
    {
     "ename": "ValueError",
     "evalue": "Found input variables with inconsistent numbers of samples: [1, 34]",
     "output_type": "error",
     "traceback": [
      "\u001b[1;31m---------------------------------------------------------------------------\u001b[0m",
      "\u001b[1;31mValueError\u001b[0m                                Traceback (most recent call last)",
      "\u001b[1;32m<ipython-input-107-0181191f731e>\u001b[0m in \u001b[0;36m<module>\u001b[1;34m()\u001b[0m\n\u001b[0;32m      1\u001b[0m \u001b[0mX\u001b[0m \u001b[1;33m=\u001b[0m \u001b[0mnp\u001b[0m\u001b[1;33m.\u001b[0m\u001b[0marray\u001b[0m\u001b[1;33m(\u001b[0m\u001b[1;36m33\u001b[0m\u001b[1;33m)\u001b[0m\u001b[1;33m\u001b[0m\u001b[0m\n\u001b[1;32m----> 2\u001b[1;33m \u001b[0mmodel_1\u001b[0m\u001b[1;33m.\u001b[0m\u001b[0mfit\u001b[0m\u001b[1;33m(\u001b[0m\u001b[0mX\u001b[0m\u001b[1;33m.\u001b[0m\u001b[0mT\u001b[0m \u001b[1;33m,\u001b[0m \u001b[0mnp\u001b[0m\u001b[1;33m.\u001b[0m\u001b[0marray\u001b[0m\u001b[1;33m(\u001b[0m\u001b[0mdf_decomposition\u001b[0m\u001b[1;33m.\u001b[0m\u001b[0mtrend\u001b[0m\u001b[1;33m.\u001b[0m\u001b[0miloc\u001b[0m\u001b[1;33m[\u001b[0m\u001b[1;36m8\u001b[0m\u001b[1;33m:\u001b[0m\u001b[1;36m42\u001b[0m\u001b[1;33m]\u001b[0m\u001b[1;33m)\u001b[0m\u001b[1;33m)\u001b[0m\u001b[1;33m\u001b[0m\u001b[0m\n\u001b[0m",
      "\u001b[1;32m~\\Anaconda3\\lib\\site-packages\\sklearn\\linear_model\\base.py\u001b[0m in \u001b[0;36mfit\u001b[1;34m(self, X, y, sample_weight)\u001b[0m\n\u001b[0;32m    480\u001b[0m         \u001b[0mn_jobs_\u001b[0m \u001b[1;33m=\u001b[0m \u001b[0mself\u001b[0m\u001b[1;33m.\u001b[0m\u001b[0mn_jobs\u001b[0m\u001b[1;33m\u001b[0m\u001b[0m\n\u001b[0;32m    481\u001b[0m         X, y = check_X_y(X, y, accept_sparse=['csr', 'csc', 'coo'],\n\u001b[1;32m--> 482\u001b[1;33m                          y_numeric=True, multi_output=True)\n\u001b[0m\u001b[0;32m    483\u001b[0m \u001b[1;33m\u001b[0m\u001b[0m\n\u001b[0;32m    484\u001b[0m         \u001b[1;32mif\u001b[0m \u001b[0msample_weight\u001b[0m \u001b[1;32mis\u001b[0m \u001b[1;32mnot\u001b[0m \u001b[1;32mNone\u001b[0m \u001b[1;32mand\u001b[0m \u001b[0mnp\u001b[0m\u001b[1;33m.\u001b[0m\u001b[0matleast_1d\u001b[0m\u001b[1;33m(\u001b[0m\u001b[0msample_weight\u001b[0m\u001b[1;33m)\u001b[0m\u001b[1;33m.\u001b[0m\u001b[0mndim\u001b[0m \u001b[1;33m>\u001b[0m \u001b[1;36m1\u001b[0m\u001b[1;33m:\u001b[0m\u001b[1;33m\u001b[0m\u001b[0m\n",
      "\u001b[1;32m~\\Anaconda3\\lib\\site-packages\\sklearn\\utils\\validation.py\u001b[0m in \u001b[0;36mcheck_X_y\u001b[1;34m(X, y, accept_sparse, dtype, order, copy, force_all_finite, ensure_2d, allow_nd, multi_output, ensure_min_samples, ensure_min_features, y_numeric, warn_on_dtype, estimator)\u001b[0m\n\u001b[0;32m    581\u001b[0m         \u001b[0my\u001b[0m \u001b[1;33m=\u001b[0m \u001b[0my\u001b[0m\u001b[1;33m.\u001b[0m\u001b[0mastype\u001b[0m\u001b[1;33m(\u001b[0m\u001b[0mnp\u001b[0m\u001b[1;33m.\u001b[0m\u001b[0mfloat64\u001b[0m\u001b[1;33m)\u001b[0m\u001b[1;33m\u001b[0m\u001b[0m\n\u001b[0;32m    582\u001b[0m \u001b[1;33m\u001b[0m\u001b[0m\n\u001b[1;32m--> 583\u001b[1;33m     \u001b[0mcheck_consistent_length\u001b[0m\u001b[1;33m(\u001b[0m\u001b[0mX\u001b[0m\u001b[1;33m,\u001b[0m \u001b[0my\u001b[0m\u001b[1;33m)\u001b[0m\u001b[1;33m\u001b[0m\u001b[0m\n\u001b[0m\u001b[0;32m    584\u001b[0m \u001b[1;33m\u001b[0m\u001b[0m\n\u001b[0;32m    585\u001b[0m     \u001b[1;32mreturn\u001b[0m \u001b[0mX\u001b[0m\u001b[1;33m,\u001b[0m \u001b[0my\u001b[0m\u001b[1;33m\u001b[0m\u001b[0m\n",
      "\u001b[1;32m~\\Anaconda3\\lib\\site-packages\\sklearn\\utils\\validation.py\u001b[0m in \u001b[0;36mcheck_consistent_length\u001b[1;34m(*arrays)\u001b[0m\n\u001b[0;32m    202\u001b[0m     \u001b[1;32mif\u001b[0m \u001b[0mlen\u001b[0m\u001b[1;33m(\u001b[0m\u001b[0muniques\u001b[0m\u001b[1;33m)\u001b[0m \u001b[1;33m>\u001b[0m \u001b[1;36m1\u001b[0m\u001b[1;33m:\u001b[0m\u001b[1;33m\u001b[0m\u001b[0m\n\u001b[0;32m    203\u001b[0m         raise ValueError(\"Found input variables with inconsistent numbers of\"\n\u001b[1;32m--> 204\u001b[1;33m                          \" samples: %r\" % [int(l) for l in lengths])\n\u001b[0m\u001b[0;32m    205\u001b[0m \u001b[1;33m\u001b[0m\u001b[0m\n\u001b[0;32m    206\u001b[0m \u001b[1;33m\u001b[0m\u001b[0m\n",
      "\u001b[1;31mValueError\u001b[0m: Found input variables with inconsistent numbers of samples: [1, 34]"
     ]
    }
   ],
   "source": [
    "X = np.array(33)\n",
    "model_1.fit(X , np.array(df_decomposition.trend.iloc[8:42]))"
   ]
  },
  {
   "cell_type": "code",
   "execution_count": 101,
   "metadata": {},
   "outputs": [
    {
     "data": {
      "text/plain": [
       "pandas.core.series.Series"
      ]
     },
     "execution_count": 101,
     "metadata": {},
     "output_type": "execute_result"
    }
   ],
   "source": [
    "type(df_decomposition.trend.iloc[8:42])\n"
   ]
  },
  {
   "cell_type": "code",
   "execution_count": 105,
   "metadata": {},
   "outputs": [
    {
     "data": {
      "text/plain": [
       "array([13578.9916    , 13598.0202875 , 13806.06299583, 13679.82203333,\n",
       "       13569.8813    , 13785.36524583, 13984.31474167, 14075.10302083,\n",
       "       14451.70036667, 14524.85922083, 14038.30314167, 13899.71890833,\n",
       "       13945.23915833, 14071.8100125 , 14425.1965125 , 14887.74974167,\n",
       "       15085.68690833, 15178.96770417, 15338.73845417, 15373.56392917,\n",
       "       15404.7618375 , 16008.74900833, 16506.00670833, 16559.42651667,\n",
       "       16602.47398333, 16350.2331875 , 16254.04949167, 16578.03857083,\n",
       "       16773.143475  , 16844.1078375 , 17040.9397875 , 17531.64046667,\n",
       "       18168.49785833, 18168.57444167])"
      ]
     },
     "execution_count": 105,
     "metadata": {},
     "output_type": "execute_result"
    }
   ],
   "source": [
    "np.array(df_decomposition.trend.iloc[8:42])"
   ]
  },
  {
   "cell_type": "code",
   "execution_count": null,
   "metadata": {},
   "outputs": [],
   "source": []
  }
 ],
 "metadata": {
  "kernelspec": {
   "display_name": "Python 3",
   "language": "python",
   "name": "python3"
  },
  "language_info": {
   "codemirror_mode": {
    "name": "ipython",
    "version": 3
   },
   "file_extension": ".py",
   "mimetype": "text/x-python",
   "name": "python",
   "nbconvert_exporter": "python",
   "pygments_lexer": "ipython3",
   "version": "3.7.0"
  }
 },
 "nbformat": 4,
 "nbformat_minor": 2
}
